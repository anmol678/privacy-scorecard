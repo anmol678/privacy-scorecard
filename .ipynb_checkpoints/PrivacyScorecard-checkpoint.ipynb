{
 "cells": [
  {
   "cell_type": "code",
   "execution_count": 1,
   "metadata": {},
   "outputs": [
    {
     "data": {
      "text/plain": [
       "True"
      ]
     },
     "execution_count": 1,
     "metadata": {},
     "output_type": "execute_result"
    }
   ],
   "source": [
    "import os\n",
    "import requests\n",
    "import json\n",
    "import re\n",
    "import asyncio\n",
    "\n",
    "from dotenv import load_dotenv\n",
    "load_dotenv()"
   ]
  },
  {
   "cell_type": "markdown",
   "metadata": {},
   "source": [
    "#### Function for Scraping Text from URL"
   ]
  },
  {
   "cell_type": "code",
   "execution_count": 2,
   "metadata": {},
   "outputs": [],
   "source": [
    "from bs4 import BeautifulSoup\n",
    "\n",
    "def get_text_from_url(url):\n",
    "    # Send a GET request to the URL\n",
    "    response = requests.get(url)\n",
    "    \n",
    "    # Check if the request was successful\n",
    "    if response.status_code == 200:\n",
    "        # Create a BeautifulSoup object from the response content\n",
    "        soup = BeautifulSoup(response.content, 'html.parser')\n",
    "        \n",
    "        # Extract all text from the BeautifulSoup object\n",
    "        text = re.sub(r'\\s{4,}', ' ', soup.get_text().strip())\n",
    "        \n",
    "        return text\n",
    "    else:\n",
    "        print('Failed to retrieve the web page.')\n",
    "        return None"
   ]
  },
  {
   "cell_type": "markdown",
   "metadata": {},
   "source": [
    "#### Function for Extracting URL Domain"
   ]
  },
  {
   "cell_type": "code",
   "execution_count": 3,
   "metadata": {},
   "outputs": [],
   "source": [
    "from urllib.parse import urlparse\n",
    "\n",
    "def extract_domain(url):\n",
    "    parsed_url = urlparse(url)\n",
    "    domain_parts = parsed_url.netloc.split(\".\")\n",
    "    if domain_parts[-1] == \"com\":\n",
    "        domain_parts = domain_parts[:-1]\n",
    "    domain = \".\".join(domain_parts)\n",
    "    return domain"
   ]
  },
  {
   "cell_type": "markdown",
   "metadata": {},
   "source": [
    "#### Function for Serp API"
   ]
  },
  {
   "cell_type": "code",
   "execution_count": 4,
   "metadata": {},
   "outputs": [],
   "source": [
    "from serpapi import GoogleSearch\n",
    "\n",
    "def get_serp_data(url):\n",
    "\n",
    "    SERP_API_KEY = os.getenv(\"SERP_API_KEY\")\n",
    "\n",
    "    query = extract_domain(url=url)\n",
    "\n",
    "    # Create the search parameters\n",
    "    params = {\n",
    "        \"engine\": \"google\",\n",
    "        \"q\": query,\n",
    "        \"api_key\": SERP_API_KEY\n",
    "    }\n",
    "\n",
    "    # Make the API request\n",
    "    search = GoogleSearch(params)\n",
    "    data = search.get_dict()\n",
    "\n",
    "    # Initialize lists to hold multiple results\n",
    "    candidate_names = []\n",
    "    candidate_descriptions = []\n",
    "    related_searches = []\n",
    "\n",
    "    # Extract multiple company names and snippets from top 5 organic results\n",
    "    for result in data['organic_results'][:5]:\n",
    "        candidate_names.append(result.get('title', ''))\n",
    "        candidate_descriptions.append(result.get('snippet', ''))\n",
    "\n",
    "    # # Extract related searches\n",
    "    related_searches = [item['query'] for item in data.get('related_searches', [])]\n",
    "\n",
    "    # # Check if Knowledge Graph exists, extract information\n",
    "    kg_title = ''\n",
    "    kg_description = ''\n",
    "    kg_type = ''\n",
    "    if 'knowledge_graph' in data:\n",
    "        kg = data['knowledge_graph']\n",
    "        kg_title = kg.get('title', '')\n",
    "        kg_description = kg.get('description', '')\n",
    "        kg_type = kg.get('type', '')\n",
    "\n",
    "    # # Consolidate all information into a single JSON object\n",
    "    serp_data = {\n",
    "        \"candidate_names\": candidate_names,\n",
    "        \"candidate_descriptions\": candidate_descriptions,\n",
    "        \"related_searches\": related_searches,\n",
    "        \"knowledge_graph\": {\n",
    "            \"title\": kg_title,\n",
    "            \"description\": kg_description,\n",
    "            \"type\": kg_type\n",
    "        }\n",
    "    }\n",
    "\n",
    "    return serp_data"
   ]
  },
  {
   "cell_type": "code",
   "execution_count": 5,
   "metadata": {},
   "outputs": [],
   "source": [
    "# Test the function with an example URL\n",
    "# print(get_serp_data(\"https://openai.com/policies/privacy-policy\"))"
   ]
  },
  {
   "cell_type": "markdown",
   "metadata": {},
   "source": [
    "#### Initialize Token Counter"
   ]
  },
  {
   "cell_type": "code",
   "execution_count": 6,
   "metadata": {},
   "outputs": [],
   "source": [
    "import tiktoken\n",
    "enc = tiktoken.get_encoding(\"cl100k_base\")\n",
    "assert enc.decode(enc.encode(\"hello world\")) == \"hello world\""
   ]
  },
  {
   "cell_type": "markdown",
   "metadata": {},
   "source": [
    "#### LangChain Imports"
   ]
  },
  {
   "cell_type": "code",
   "execution_count": 7,
   "metadata": {},
   "outputs": [],
   "source": [
    "from promptlayer.langchain.chat_models import PromptLayerChatOpenAI\n",
    "from langchain.chains.summarize import load_summarize_chain\n",
    "from langchain.chains import LLMChain\n",
    "from langchain.text_splitter import RecursiveCharacterTextSplitter\n",
    "from langchain.prompts import PromptTemplate, FewShotPromptTemplate\n",
    "from langchain.prompts.chat import (\n",
    "    ChatPromptTemplate,\n",
    "    SystemMessagePromptTemplate,\n",
    "    HumanMessagePromptTemplate,\n",
    ")"
   ]
  },
  {
   "cell_type": "code",
   "execution_count": 8,
   "metadata": {},
   "outputs": [],
   "source": [
    "# TODO\n",
    "# use streaming with the llms"
   ]
  },
  {
   "cell_type": "markdown",
   "metadata": {},
   "source": [
    "#### Define LLM"
   ]
  },
  {
   "cell_type": "code",
   "execution_count": 9,
   "metadata": {},
   "outputs": [],
   "source": [
    "OPENAI_API_KEY = os.getenv(\"OPENAI_API_KEY\")\n",
    "PROMPTLAYER_API_KEY = os.getenv(\"PROMPTLAYER_API_KEY\")\n",
    "model_name = \"gpt-3.5-turbo\"\n",
    "\n",
    "llm = PromptLayerChatOpenAI(pl_tags=[\"Privacy Scorecard\", \"Google\"], model_name=model_name, temperature=0.3, openai_api_key=OPENAI_API_KEY)"
   ]
  },
  {
   "cell_type": "code",
   "execution_count": 10,
   "metadata": {},
   "outputs": [],
   "source": [
    "# chain = LLMChain(llm=llm, prompt=PromptTemplate(template=\"analyze this text {try}\", input_variables=[\"try\"]))\n",
    "# response = chain.run(\"test\")"
   ]
  },
  {
   "cell_type": "markdown",
   "metadata": {},
   "source": [
    "## 1. Analyze Policy: Generate Chunk Summaries"
   ]
  },
  {
   "cell_type": "markdown",
   "metadata": {},
   "source": [
    "#### Compile System Prompt"
   ]
  },
  {
   "cell_type": "code",
   "execution_count": 11,
   "metadata": {},
   "outputs": [],
   "source": [
    "with open(\"system_analyze_policy_prompt.txt\", \"r\") as file:\n",
    "    system_prompt = file.read()\n",
    "system_message_prompt = SystemMessagePromptTemplate.from_template(system_prompt)"
   ]
  },
  {
   "cell_type": "markdown",
   "metadata": {},
   "source": [
    "#### Compile Few-shot Human Prompt"
   ]
  },
  {
   "cell_type": "code",
   "execution_count": 12,
   "metadata": {},
   "outputs": [],
   "source": [
    "with open(\"chunk_category_summary_data.json\", \"r\") as file:\n",
    "    file_contents = file.read()\n",
    "    prompt, categories = json.loads(file_contents)[\"prompt\"], json.loads(file_contents)[\"categories\"]\n",
    "\n",
    "category_prompt_template = PromptTemplate(\n",
    "    input_variables=[\"category\", \"prompt\", \"input\", \"output\"],\n",
    "    template=\"Category: {category}\\n{prompt}\\nInput Example: {input}\\nExpected Output: {output}\",\n",
    ")\n",
    "\n",
    "few_shot_prompt = FewShotPromptTemplate(\n",
    "    examples=categories,\n",
    "    example_prompt=category_prompt_template,\n",
    "    example_separator=\"\\n\\n\",\n",
    "    prefix=prompt,\n",
    "    suffix=\"ANALYZE TEXT: {input}\",\n",
    "    input_variables=[\"input\"],\n",
    ")"
   ]
  },
  {
   "cell_type": "markdown",
   "metadata": {},
   "source": [
    "#### Get Text from URL"
   ]
  },
  {
   "cell_type": "code",
   "execution_count": 13,
   "metadata": {},
   "outputs": [
    {
     "name": "stdout",
     "output_type": "stream",
     "text": [
      "Privacy policy CloseSearch Submit Skip to main contentSite NavigationResearchOverviewIndexProductOverviewChatGPTGPT-4DALL·E 2Customer storiesSafety standardsPricingDevelopersOverviewDocumentationAPI referenceExamplesSafetyCompanyAboutBlogCareersCharterSecuritySearch Navigation quick links Log inSign upMenu Mobile Navigation CloseSite NavigationResearchProductDevelopersSafetyCompany Quick Links Log inSign upSearch Submit Privacy policyUpdatedApril 27, 2023We at OpenAI OpCo, LLC (together with our affiliates, “OpenAI”, “we”, “our” or “us”) respect your privacy and are strongly committed to keeping secure any information we obtain from you or about you. This Privacy Policy describes our practices with respect to Personal Information we collect from or about you when you use our website and services (collectively, “Services”). This Privacy Policy does not apply to content that we process on behalf of customers of our business offerings, such as our API. Our use of that data is governed by our customer agreements covering access to and use of those offerings.For information about how we collect and use training information to develop our language models that power ChatGPT and other Services, and your choices with respect to that information, please see this help center article.1. Personal information we collectWe collect information that alone or in combination with other information in our possession could be used to identify you (“Personal Information”) as follows:Personal Information You Provide: We may collect Personal Information if you create an account to use our Services or communicate with us as follows:Account Information: When you create an account with us, we will collect information associated with your account, including your name, contact information, account credentials, payment card information, and transaction history, (collectively, “Account Information”).User Content: When you use our Services, we may collect Personal Information that is included in the input, file uploads, or feedback that you provide to our Services (“Content”). Communication Information: If you communicate with us, we may collect your name, contact information, and the contents of any messages you send (“Communication Information”).Social Media Information: We have pages on social media sites like Instagram, Facebook, Medium, Twitter, YouTube and LinkedIn. When you interact with our social media pages, we will collect Personal Information that you elect to provide to us, such as your contact details (collectively, “Social Information”). In addition, the companies that host our social media pages may provide us with aggregate information and analytics about our social media activity.Personal Information We Receive Automatically From Your Use of the Services: When you visit, use, and interact with the Services, we may receive the following information about your visit, use, or interactions (“Technical Information”):Log Data: Information that your browser automatically sends whenever you use our website (“log data”). Log data includes your Internet Protocol address, browser type and settings, the date and time of your request, and how you interacted with our website.Usage Data: We may automatically collect information about your use of the Services, such as the types of content that you view or engage with, the features you use and the actions you take, as well as your time zone, country, the dates and times of access, user agent and version, type of computer or mobile device, computer connection, IP address, and the like.Device Information: Includes name of the device, operating system, and browser you are using. Information collected may depend on the type of device you use and its settings.Cookies: We use cookies to operate and administer our Services, and improve your experience on it. A “cookie” is a piece of information sent to your browser by a website you visit. You can set your browser to accept all cookies, to reject all cookies, or to notify you whenever a cookie is offered so that you can decide each time whether to accept it. However, refusing a cookie may in some cases preclude you from using, or negatively affect the display or function of, a website or certain areas or features of a website. For more details on cookies please visit All About Cookies.Analytics: We may use a variety of online analytics products that use cookies to help us analyze how users use our Services and enhance your experience when you use the Services.2. How we use personal informationWe may use Personal Information for the following purposes:To provide, administer, maintain and/or analyze the Services;To improve our Services and conduct research;To communicate with you;To develop new programs and services;To prevent fraud, criminal activity, or misuses of our Services, and to ensure the security of our IT systems, architecture, and networks; andTo comply with legal obligations and legal process and to protect our rights, privacy, safety, or property, and/or that of our affiliates, you, or other third parties.Aggregated or De-Identified Information. We may aggregate or de-identify Personal Information and use the aggregated information to analyze the effectiveness of our Services, to improve and add features to our Services, to conduct research and for other similar purposes. In addition, from time to time, we may analyze the general behavior and characteristics of users of our Services and share aggregated information like general user statistics with third parties, publish such aggregated information or make such aggregated information generally available. We may collect aggregated information through the Services, through cookies, and through other means described in this Privacy Policy. We will maintain and use de-identified information in anonymous or de-identified form and we will not attempt to reidentify the information.As noted above, we may use Content you provide us to improve our Services, for example to train the models that power ChatGPT. See here for instructions on how you can opt out of our use of your Content to train our models.3. Disclosure of personal informationIn certain circumstances we may provide your Personal Information to third parties without further notice to you, unless required by the law:Vendors and Service Providers: To assist us in meeting business operations needs and to perform certain services and functions, we may provide Personal Information to vendors and service providers, including providers of hosting services, cloud services, and other information technology services providers, event management services, email communication software and email newsletter services, and web analytics services. Pursuant to our instructions, these parties will access, process, or store Personal Information only in the course of performing their duties to us.Business Transfers: If we are involved in strategic transactions, reorganization, bankruptcy, receivership, or transition of service to another provider (collectively a “Transaction”), your Personal Information and other information may be disclosed in the diligence process with counterparties and others assisting with the Transaction and transferred to a successor or affiliate as part of that Transaction along with other assets.Legal Requirements: If required to do so by law or in the good faith belief that such action is necessary to (i) comply with a legal obligation, including to meet national security or law enforcement requirements, (ii) protect and defend our rights or property, (iii) prevent fraud, (iv) act in urgent circumstances to protect the personal safety of users of the Services, or the public, or (v) protect against legal liability.Affiliates: We may disclose Personal Information to our affiliates, meaning an entity that controls, is controlled by, or is under common control with OpenAI. Our affiliates may use the Personal Information we share in a manner consistent with this Privacy Policy.4. Your rightsDepending on location, individuals in the EEA, the UK, and across the globe may have certain statutory rights in relation to their Personal Information. For example, you may have the right to:Access your Personal Information.Delete your Personal Information.Correct or update your Personal Information.Transfer your Personal Information elsewhere.Withdraw your consent to the processing of your Personal Information where we rely on consent as the legal basis for processing.Object to or restrict the processing of your Personal Information where we rely on legitimate interests as the legal basis for processing.You can exercise some of these rights through your OpenAI account. If you are unable to exercise your rights through your account, please send your request to dsar@openai.com.A note about accuracy: Services like ChatGPT generate responses by reading a user’s request and then predicting the next most likely words that might appear in response. In some cases, the most likely next words may not be the most factually accurate ones. For this reason, you should not rely on the factual accuracy of output from our models. If you notice that ChatGPT output contains factually inaccurate personal information about you and you would like us to correct the inaccuracy, you may submit a correction request to dsar@openai.com. Given the technical complexity of how our models work, we may not be able to correct the inaccuracy. In that case, you may request that we remove your personal information from ChatGPT’s output by filling out this form.For information on how to exercise your rights with respect to data we have collected from the internet to train our models, please see this help center article.5. California privacy rightsThe following table provides additional information about how we disclose Personal Information. You can read more about the Personal Information we collect in “Personal information we collect” above, how we use Personal information in “How we use personal information” above, and how we retain personal information in “Security and Retention” below.Category of Personal InformationDisclosure of Personal InformationIdentifiers, such as your contact detailsWe disclose this information to our affiliates, vendors and service providers, law enforcement, and parties involved in Transactions.Commercial Information, such as your transaction historyWe disclose this information to our affiliates, vendors and service providers, law enforcement, and parties involved in Transactions.Network Activity Information, such as Content and how you interact with our ServicesWe disclose this information to our affiliates, vendors and service providers, law enforcement, and parties involved in Transactions.Geolocation DataWe disclose this information to our affiliates, vendors and service providers, law enforcement, and parties involved in Transactions.Your account login credentials (Sensitive Personal Information)We disclose this information to our affiliates, vendors and service providers, law enforcement, and parties involved in Transactions.To the extent provided for by law and subject to applicable exceptions, California residents have the following privacy rights in relation to their Personal Information:The right to know information about our processing of your Personal Information, including the specific pieces of Personal Information that we have collected from you;The right to request deletion of your Personal Information;The right to correct your Personal Information; andThe right to be free from discrimination relating to the exercise of any of your privacy rights.We don’t sell or share Personal Information as defined by the California Consumer Privacy Act, as amended by the California Privacy Rights Act. We also don’t process sensitive personal information for the purposes of inferring characteristics about a consumer.Exercising Your Rights. California residents can exercise their CCPA privacy rights by sending their request to dsar@openai.com.Verification. In order to protect your Personal Information from unauthorized access, change, or deletion, we may require you to verify your credentials before you can submit a request to know, correct, or delete Personal Information. If you do not have an account with us, or if we suspect fraudulent or malicious activity, we may ask you to provide additional Personal Information and proof of residency for verification. If we cannot verify your identity, we will not provide, correct, or delete your Personal Information.Authorized Agents. You may submit a rights request through an authorized agent. If you do so, the agent must present signed written permission to act on your behalf and you may also be required to independently verify your identity and submit proof of your residency with us. Authorized agent requests can be submitted to dsar@openai.com.6. ChildrenOur Service is not directed to children who are under the age of 13. OpenAI does not knowingly collect Personal Information from children under the age of 13. If you have reason to believe that a child under the age of 13 has provided Personal Information to OpenAI through the Service please email us at legal@openai.com. We will investigate any notification and if appropriate, delete the Personal Information from our systems. If you are 13 or older, but under 18, you must have consent from your parent or guardian to use our Services.7. Links to other websitesThe Service may contain links to other websites not operated or controlled by OpenAI, including social media services (“Third Party Sites”). The information that you share with Third Party Sites will be governed by the specific privacy policies and terms of service of the Third Party Sites and not by this Privacy Policy. By providing these links we do not imply that we endorse or have reviewed these sites. Please contact the Third Party Sites directly for information on their privacy practices and policies.8. Security and RetentionWe implement commercially reasonable technical, administrative, and organizational measures to protect Personal Information both online and offline from loss, misuse, and unauthorized access, disclosure, alteration, or destruction. However, no Internet or email transmission is ever fully secure or error free. In particular, email sent to or from us may not be secure. Therefore, you should take special care in deciding what information you send to us via the Service or email. In addition, we are not responsible for circumvention of any privacy settings or security measures contained on the Service, or third party websites.We’ll retain your Personal Information for only as long as we need in order to provide our Service to you, or for other legitimate business purposes such as resolving disputes, safety and security reasons, or complying with our legal obligations. How long we retain Personal Information will depend on a number of factors, such as the amount, nature, and sensitivity of the information, the potential risk of harm from unauthorized use or disclosure, our purpose for processing the information, and any legal requirements.We may also anonymize or de-identify your Personal Information (so that it can no longer be associated with you) for research or statistical purposes, as described above, in which case we may use this information indefinitely without further notice to you.9. International usersBy using our Service, you understand and acknowledge that your Personal Information will be transferred from your location to our facilities and servers in the United States.For EEA, UK or Swiss users:Legal Basis for Processing. Our legal bases for processing your Personal Information include:Performance of a contract with you when we provide and maintain our Services. When we process Account Information, Content, and Technical Information solely to provide our Services to you, this information is necessary to be able to provide our Services. If you do not provide this information, we may not be able to provide our Services to you. Our legitimate interests in protecting our Services from abuse, fraud, or security risks, or in developing, improving, or promoting our Services, including when we train our models. This may include the processing of Account Information, Content, Social Information, and Technical Information. See here for instructions on how you can opt out of our use of your information to train our models.Your consent when we ask for your consent to process your Personal Information for a specific purpose that we communicate to you. You have the right to withdraw your consent at any time.Compliance with our legal obligations when we use your Personal Information to comply with applicable law or when we protect our or our affiliates’, users’, or third parties’ rights, safety, and property.EEA and UK Representative. We’ve appointed VeraSafe as our representative in the EEA and UK for data protection matters. You can contact VeraSafe in matters related to Personal Information processing using this contact form. Alternatively: For users in the EEA, you can contact VeraSafe at VeraSafe Ireland Ltd, Unit 3D North Point House, North Point Business Park, New Mallow Road, Cork T23AT2P, Ireland.For users in the UK, you can contact VeraSafe at VeraSafe United Kingdom Ltd., 37 Albert Embankment, London SE1 7TL, United Kingdom.If you feel we have not adequately addressed an issue, you have the right to lodge a complaint with your local supervisory authority.Data Transfers. Where required, we will use appropriate safeguards for transferring Personal Information outside of the EEA, Switzerland, and the UK. We will only transfer Personal Information pursuant to a legally valid transfer mechanism.Data Controller. For the purposes of the UK and EU General Data Protection Regulation 2018, our data controller is OpenAI OpCo, LLC at 3180 18th Street, San Francisco, CA, United States.10. Changes to the privacy policyWe may change this Privacy Policy at any time. When we do, we will post an updated version on this page, unless another type of notice is required by applicable law. By continuing to use our Service or providing us with Personal Information after we have posted an updated Privacy Policy, or notified you by other means, you consent to the revised Privacy Policy.11. How to contact usPlease contact support if you have any questions or concerns not already addressed in this Privacy Policy.ResearchOverviewIndexProductOverviewGPT-4DALL·E 2Customer storiesSafety standardsPricingSafetyOverviewCompanyAboutBlogCareersCharterSecurityOpenAI © 2015 – 2023Terms & policiesPrivacy policyBrand guidelinesSocialTwitterYouTubeGitHubSoundCloudLinkedInBack to top\n"
     ]
    }
   ],
   "source": [
    "url = \"https://openai.com/policies/privacy-policy\"\n",
    "# url = \"https://app.skiff.com/docs/db93c237-84c2-4b2b-9588-19a7cd2cd45a#tyGksN9rkqbo2uGYASxsA6HVLjUoly/wTYK8tncTto8=\"\n",
    "# url = \"https://policies.google.com/privacy?hl=en-US\"\n",
    "text = get_text_from_url(url)\n",
    "print(text)"
   ]
  },
  {
   "cell_type": "code",
   "execution_count": 14,
   "metadata": {},
   "outputs": [],
   "source": [
    "# text = \"\"\"\n",
    "# Skiff Privacy Policy\n",
    "\n",
    "# Last Updated June 6, 2022\n",
    "\n",
    "# SKIFF PRIVACY POLICY\n",
    "\n",
    "# Skiff World, Inc., (which operates the website skiff.org and certain services under the name “Skiff,” and is referred to as “Skiff” in this Privacy Policy), provides a secure collaboration platform for our customers. This Privacy Policy is designed to help you understand how we collect, use, and share your information, and to help you understand and exercise your privacy choices.\n",
    "\n",
    "# Scope\n",
    "\n",
    "# This Privacy Policy applies to information we collect from our site visitors and free users (“Platform Data”), including on our websites, mobile applications, and other online or offline offerings. To make this Privacy Policy easier to read, our websites, applications, and other offerings are collectively called “ .”‍An Important Note: This Privacy Policy does not apply to any Skiff information uploaded to our platform by enterprise customers’ end users (“Customer Data”). We process Customer Data in accordance with the contracts that we have in place with our customers and the instructions they provide us, not this Privacy Policy. If you are an end user of an enterprise customer account, any questions or requests relating to Customer Data should be directed to the customer that provides your instance of Skiff.\n",
    "\n",
    "# Personal Information We Collect\n",
    "\n",
    "# Skiff’s highest priority is to safeguard the privacy of the users on our platform. While you are on our platform, we collect only a minimal amount of data needed to provide you with our services. However, we may collect additional types of information when you visit our website or communicate with us via other channels, such as email or social media. We explain the types information we collect in each of these mediums below.‍     A. Information You Provide to Us Directly‍We may collect the following information that you provide to us.‍• Account Creation. We may collect information when you create an account, such as your email address and username. When setting up your account, you may optionally also provide your real name, and your interest in Skiff. Note that although you provide login credentials to access the Service, we do not store your plain-text password on our servers.• Purchases. We may collect information and details associated with your purchases, including payment information collected by our third-party payment processors (e.g., Stripe) on our behalf. We do not directly collect or store any payment card information, but may receive billing address or other non-sensitive information associated with your payment card from our third-party processors.• Digital Wallet information.  “Digital Wallet” means an application or software (e.g. any Ethereum wallet, such as MetaMask or Rainbow Wallet) that customers may use to secure their private keys and execute blockchain transactions. If you connect your Digital Wallet in order to access our Services, we may collect your Wallet public key address.• Interactive Features. We collect information you choose to share with us through our interactive features (e.g., content sharing, messaging and chat features, commenting functionalities, etc.). Any information you provide to us using the sharing features of the Services ( “User Content”) will be accessible to us and other users you share the User Content with.‍• Your Communications with Us. We may collect information such as your email address, when you request information about our Services, register for our newsletter, request customer or technical support, apply for a job, or otherwise communicate with us.• Surveys. We may contact you to participate in surveys about our Services. If you decide to participate, some surveys may ask you to provide certain information about yourself.• Job Applications. We may post job openings and opportunities on our Services. If you reply to one of these postings by submitting your application, CV and/or cover letter to us, we will collect and use your information to assess your qualifications.‍     B. Information Collected Automatically We may collect certain information automatically when you visit our website or use the services to provide and measure our services and for security and fraud prevention purposes:\n",
    "\n",
    "# • Automatic Data Collection. In order to protect you and our platform from malicious activity and to prevent fraud, we may collect certain information automatically when you use our Services, such as your Internet protocol (IP) address (temporarily), user settings, and Skiff-provided authentication cookies.\n",
    "\n",
    "# • Cookies and Other Technologies. Cookies are small text files placed in device browsers that store preferences and facilitate and enhance your experience. We, as well as third parties that provide content or other functionality on our Services, may use cookies, local storage, and other technologies (“Technologies”) to automatically collect information through your use of our Services.Our uses of these Technologies fall into the following general categories:‍• Operationally Necessary. This includes Technologies that allow you access to our Services and tools that are required to identify irregular website behavior, prevent fraudulent activity and improve security or that allow you to make use of our functionality;• Performance-Related. We may use Technologies to assess the performance of our Services, including as part of our analytic practices to help us understand how individuals use our Services (see Analytics below);• Functionality-Related. We may use Technologies that allow us to offer you enhanced functionality when accessing or using our Services. This may include identifying you when you sign into our Services or keeping track of your specified preferences;‍See “Your Privacy Choices” below to understand your choices regarding these Technologies.‍• Analytics. We may use Technologies and other third-party tools, including those provided by Matomo, to better understand how individuals use our platform. For more information, please visit Matomo’s Privacy Policy. Matomo, and other third party scripts, are only used on Skiff’s marketing site (“skiff.com”) and not Skiff services (“app.skiff.com”). ‍Platform: We temporarily collect only IP addresses on our platform during signup. We collect this information through operationally necessary security technology in order to provide you with our services and keep our platform online.‍\n",
    "\n",
    "# How We Use Your Information\n",
    "\n",
    "# Information collected through the platform: As noted above, we use the limited information collected from you while you are on our platform only to provide you with our services. We do not have access to the content you upload to Skiff, and therefore do not make any use of the information contained in that content.‍‍Other information: We use the information we collect from you through our website and other off-platform channels primarily to provide our Services, for security and fraud prevention, and for administrative purposes, and to market our products and Services, as described below.    A. Administering Our ServicesWe use information collected off-platform for administrative purposes, such as:‍• Administering your account;• Providing access to certain areas, functionalities, and features of our website;• Answering requests for customer or technical support;• Communicating with you about your account, activities on our Services, and policy changes;• Processing your financial information and other payment methods for products or Services purchased;• Processing applications if you apply for a job we post on our Services; and• Allowing you to register for events.    B. Operational Purposes‍We use your information to operate our business, such as:• Preventing and detecting security incidents, protecting against malicious, deceptive, fraudulent or illegal activity, and prosecuting those responsible for that activity;• Measuring and analyzing interest and engagement in our Services;• Short-term, transient use, such as contextual customization of ads;• Improving, upgrading or enhancing our Services;• Developing new products and Services;• Ensuring internal quality control and safety;• Authenticating and verifying individual identities, including requests to exercise your rights under this policy;• Debugging to identify and repair errors with our Services;• Auditing relating to interactions, transactions and other compliance activities;• Enforcing our agreements and policies; and• Complying with our legal obligations.‍    C. Marketing and Advertising our Products and ServicesWe may use information to market and advertise our products to you directly if you have signed up for the services and/or provided us with your email address. This includes marketing via email campaigns and notifications within the Platform. You can opt out of direct email marketing messages from us by clicking the “unsubscribe” button included in the footer of the emails we send you. For more choices about use of tracking technologies for advertising more generally, please see “Your Privacy Choices” below.‍    D. Other Purposes‍We also use your information for other purposes as requested by you or as permitted by applicable law.\n",
    "\n",
    "# • Consent.  We may use your information for other purposes with your explicit consent.• De-identified and Aggregated Information. We may use information about you to create de-identified and/or aggregated information. We may use such aggregate or de-identified information for any purpose, and such information is not subject to the limitations set forth in this Policy.• Referral Services. Our referral services may allow you to share certain content with a friend or colleague, such as an email inviting your friend to use our Services. Please only share with us contact information of people with whom you have a relationship (e.g., relative, friend neighbor, or co-worker).\n",
    "\n",
    "# How We Disclose Your Information\n",
    "\n",
    "# We disclose your information to third parties for limited business purposes, including to provide payments processing, customer service, and IT support, to protect us or others, or in the event of a major business transaction such as a merger, sale, or asset transfer, as described below.    A. Disclosures to Provide our Services‍The content you upload to Skiff is stored in end-to-end encrypted form in a secure cloud database hosted by a cloud provider or on IPFS. We do not share user content with any other third party.‍We may share other information we collect with other third parties, as follows:• Service Providers. Skiff does not share any of your personal information with service providers. However, we may share your information with our third-party service providers who use that information to help us provide IT support, hosting, payment processing, customer service, and related services.• Other Users. As described above in “Personal Information We Collect,” our Services allow you to share your profile and/or User Content with other Users.    B. Disclosures to Protect Us or OthersWe may access, preserve, and disclose your information if we, in good faith, believe doing so is required or appropriate to: comply with law enforcement or national security requests and legal process, such as a court order or subpoena; protect your, our, or others’ rights, property, or safety; enforce our policies or contracts; collect amounts owed to us; or assist with an investigation or prosecution of suspected or actual illegal activity. Please note, however, that we do not have the ability to decrypt any content uploaded to our platform.     C. Disclosure in the Event of Merger, Sale, or Other Asset TransfersIf we are involved in a merger, acquisition, financing due diligence, reorganization, bankruptcy, receivership, purchase or sale of assets, or transition of service to another provider, your information may be sold or transferred as part of such a transaction, as permitted by law and/or contract.\n",
    "\n",
    "# Your Privacy Choices and Rights\n",
    "\n",
    "# • Email Communications. If you do not wish to receive marketing communications from us, you can use the unsubscribe link found at the bottom of the email to opt out of receiving future marketing emails. Note that you will continue to receive transaction-related emails regarding products or Services you have requested. We may also send you certain non-promotional communications regarding us and our Services, and you will not be able to opt out of those communications (e.g., communications regarding our Services or updates to our Terms or this Privacy Policy).• “Do Not Track.” Do Not Track (“DNT”) is a privacy preference that users can set in certain web browsers. Please note that we do not respond to or honor DNT signals or similar mechanisms transmitted by web browsers.• Cookies. You may stop or restrict the placement of Technologies on your device or remove them by adjusting your preferences as your browser or device permits. However, if you adjust your preferences, our Services may not work properly. Please note you must separately opt out in each browser and on each device.• Requests Regarding Your Personal Information. If you would like to request access to a copy of your personal information, or request correction or deletion of your information, please email us at the address listed in the “Contact Us” section below.\n",
    "\n",
    "# • Mobile Settings. You can use your mobile device settings to limit use of the identifier(s) associated with your device for notifications or other settings.\n",
    "\n",
    "# Security of Your Information\n",
    "\n",
    "# We take steps to ensure that your information is treated securely and in accordance with this Privacy Policy. Unfortunately, no system is 100% secure, and we cannot ensure or warrant the security of any information you provide to us. We have taken appropriate safeguards to require that your personal information will remain protected and require our third-party service providers and partners to have appropriate safeguards as well.\n",
    "\n",
    "# By using our Services or providing information to us, you agree that we may communicate with you electronically regarding security, privacy, and administrative issues relating to your use of our Services. If we are required to notify you of a security incident, we may attempt to notify you electronically by posting a notice on our Services, by mail or by sending an email to you.\n",
    "\n",
    "# International Data Transfers\n",
    "\n",
    "# All information processed by us may be transferred, processed, and stored anywhere in the world, including, but not limited to, the United States or other countries, which may have data protection laws that are different from the laws where you live. We endeavor to safeguard your information consistent with the requirements of applicable laws.\n",
    "\n",
    "# Retention of Personal Information\n",
    "\n",
    "# We store the personal information we collect as described in this Privacy Policy for as long as you use our Services or as necessary to fulfill the purpose(s) for which it was collected, provide our Services, resolve disputes, establish legal defenses, conduct audits, pursue legitimate business purposes, enforce our agreements, and comply with applicable laws.\n",
    "\n",
    "# Supplemental Notice for Nevada Residents\n",
    "\n",
    "# If you are a resident of Nevada, you have the right to opt-out of the sale of certain Personal Information to third parties who intend to license or sell that Personal Information. You can exercise this right by contacting us at hello@skiff.org with the subject line “Nevada Do Not Sell Request” and providing us with your name and the email address associated with your account. Please note that we do not currently sell your Personal Information as sales are defined in Nevada Revised Statutes Chapter 603A.\n",
    "\n",
    "# Children's Information\n",
    "\n",
    "# The Services are not directed to children under 18 , and we do not knowingly collect personal information from children.If you are a parent or guardian and believe your child has uploaded personal information to our site without your consent, you may contact us as described in “Contact Us” below. If we become aware that a child has provided us with personal information in violation of applicable law, we will delete any personal information we have collected, unless we have a legal obligation to keep it, and terminate the child’s account if applicable.\n",
    "\n",
    "# Other Provisions\n",
    "\n",
    "# Third-Party Websites/Applications. The Services may contain links to other websites/applications and other websites/applications may reference or link to our Services. These third-party services are not controlled by us. We encourage our users to read the privacy policies of each website and application with which they interact. We do not endorse, screen or approve, and are not responsible for, the privacy practices or content of such other websites or applications. Providing personal information to third-party websites or applications is at your own risk.Changes to our Privacy Policy. We may revise this Privacy Policy from time to time in our sole discretion. If there are any material changes to this Privacy Policy, we will notify you as required by applicable law. You understand and agree that you will be deemed to have accepted the updated Privacy Policy if you continue to use our Services after the new Privacy Policy takes effect.\n",
    "\n",
    "# Use of GMail import feature\n",
    "\n",
    "# Skiff’s use and transfer to any other app of information received from Google APIs will adhere to Google API Services User Data Policy, including the Limited Use requirements.\n",
    "\n",
    "# CONTACT USIf you have any questions about our privacy practices or this Privacy Policy, or to make requests about your information as detailed in this Privacy Policy, please contact us at:Skiffhello@skiff.org\n",
    "\n",
    "# +1 (415) 320-8575\n",
    "# \"\"\""
   ]
  },
  {
   "cell_type": "code",
   "execution_count": 15,
   "metadata": {},
   "outputs": [],
   "source": [
    "# Remove\n",
    "# with open(\"sample_policy.txt\", \"r\") as file:\n",
    "#     text = file.read()"
   ]
  },
  {
   "cell_type": "code",
   "execution_count": 16,
   "metadata": {},
   "outputs": [
    {
     "name": "stdout",
     "output_type": "stream",
     "text": [
      "3547\n"
     ]
    }
   ],
   "source": [
    "encoding = tiktoken.encoding_for_model(model_name=model_name)\n",
    "num_tokens = len(encoding.encode(text))\n",
    "print(num_tokens)"
   ]
  },
  {
   "cell_type": "markdown",
   "metadata": {},
   "source": [
    "#### Split Policy Text into Chunks"
   ]
  },
  {
   "cell_type": "code",
   "execution_count": 17,
   "metadata": {},
   "outputs": [
    {
     "name": "stdout",
     "output_type": "stream",
     "text": [
      "[Document(page_content='Privacy policy CloseSearch Submit Skip to main contentSite NavigationResearchOverviewIndexProductOverviewChatGPTGPT-4DALL·E 2Customer storiesSafety standardsPricingDevelopersOverviewDocumentationAPI referenceExamplesSafetyCompanyAboutBlogCareersCharterSecuritySearch Navigation quick links Log inSign upMenu Mobile Navigation CloseSite NavigationResearchProductDevelopersSafetyCompany Quick Links Log inSign upSearch Submit Privacy policyUpdatedApril 27, 2023We at OpenAI OpCo, LLC (together with our affiliates, “OpenAI”, “we”, “our” or “us”) respect your privacy and are strongly committed to keeping secure any information we obtain from you or about you. This Privacy Policy describes our practices with respect to Personal Information we collect from or about you when you use our website and services (collectively, “Services”). This Privacy Policy does not apply to content that we process on behalf of customers of our business offerings, such as our API. Our use of that data is governed by our customer agreements covering access to and use of those offerings.For information about how we collect and use training information to develop our language models that power ChatGPT and other Services, and your choices with respect to that information, please see this help center article.1. Personal information we collectWe collect information that alone or in combination with other information in our possession could be used to identify you (“Personal Information”) as\\xa0follows:Personal Information You Provide: We may collect Personal Information if you create an account to use our Services or communicate with us as\\xa0follows:Account Information: When you create an account with us, we will collect information associated with your account, including your name, contact information, account credentials, payment card information, and transaction history, (collectively, “Account Information”).User Content: When you use our Services, we may collect Personal Information that is included in the input, file uploads, or feedback that you provide to our Services (“Content”).\\xa0Communication Information: If you communicate with us, we may collect your name, contact information, and the contents of any messages you send (“Communication\\xa0Information”).Social Media Information: We have pages on social media sites like Instagram, Facebook, Medium, Twitter, YouTube and LinkedIn. When you interact with our social media pages, we will collect Personal Information that you elect to provide to us, such as your contact details (collectively, “Social Information”). In addition, the companies that host our social media pages may provide us with aggregate information and analytics about our social media activity.Personal Information We Receive Automatically From Your Use of the Services:\\xa0When you visit, use, and interact with the Services, we may receive the following information about your visit, use, or interactions (“Technical Information”):Log Data: Information that your browser automatically sends whenever you use our website (“log data”). Log data includes your Internet Protocol address, browser type and settings, the date and time of your request, and how you interacted with our website.Usage Data: We may automatically collect information about your use of the Services, such as the types of content that you view or engage with, the features you use and the actions you take, as well as your time zone, country, the dates and times of access, user agent and version, type of computer or mobile device, computer connection, IP address, and the\\xa0like.Device Information: Includes name of the device, operating system, and browser you are using. Information collected may depend on the type of device you use and its\\xa0settings.Cookies: We use cookies to operate and administer our Services, and improve your experience on it. A “cookie” is a piece of information sent to your browser by a website you visit. You can set your browser to accept all cookies, to reject all cookies, or to notify you whenever a cookie is offered so that you can decide each time whether to accept it. However, refusing a cookie may in some cases preclude you from using, or negatively affect the display or function of, a website or certain areas or features of a website. For more details on cookies please visit\\xa0All About\\xa0Cookies.Analytics: We may use a variety of online analytics products that use cookies to help us analyze how users use our Services and enhance your experience when you use the Services.2. How we use personal informationWe may use Personal Information for the following\\xa0purposes:To provide, administer, maintain and/or analyze the\\xa0Services;To improve our Services and conduct research;To communicate with\\xa0you;To develop new programs and\\xa0services;To prevent fraud, criminal activity, or misuses of our Services, and to ensure the security of our IT systems, architecture, and networks;\\xa0andTo comply with legal obligations and legal process and to protect our rights, privacy, safety, or property, and/or that of our affiliates, you, or other third\\xa0parties.Aggregated or De-Identified Information. We may aggregate or de-identify Personal Information and use the aggregated information to analyze the effectiveness of our Services, to improve and add features to our Services, to conduct research and for other similar purposes. In addition, from time to time, we may analyze the general behavior and characteristics of users of our Services and share aggregated information like general user statistics with third parties, publish such aggregated information or make such aggregated information generally available. We may collect aggregated information through the Services, through cookies, and through other means described in this Privacy\\xa0Policy. We will maintain and use de-identified information in anonymous or de-identified form and we will not attempt to reidentify the information', metadata={}), Document(page_content='As noted above, we may use Content you provide us to improve our Services, for example to train the models that power ChatGPT. See here for instructions on how you can opt out of our use of your Content to train our models.3. Disclosure of personal informationIn certain circumstances we may provide your Personal Information to third parties without further notice to you, unless required by the law:Vendors and Service Providers: To assist us in meeting business operations needs and to perform certain services and functions, we may provide Personal Information to vendors and service providers, including providers of hosting services, cloud services, and other information technology services providers, event management services, email communication software and email newsletter services, and web analytics services. Pursuant to our instructions, these parties will access, process, or store Personal Information only in the course of performing their duties to\\xa0us.Business Transfers: If we are involved in strategic transactions, reorganization, bankruptcy, receivership, or transition of service to another provider (collectively a “Transaction”), your Personal Information and other information may be disclosed in the diligence process with counterparties and others assisting with the Transaction and transferred to a successor or affiliate as part of that Transaction along with other\\xa0assets.Legal Requirements: If required to do so by law or in the good faith belief that such action is necessary to (i) comply with a legal obligation, including to meet national security or law enforcement requirements, (ii) protect and defend our rights or property, (iii) prevent fraud, (iv) act in urgent circumstances to protect the personal safety of users of the Services, or the public, or (v) protect against legal\\xa0liability.Affiliates: We may disclose Personal Information to our affiliates, meaning an entity that controls, is controlled by, or is under common control with OpenAI. Our affiliates may use the Personal Information we share in a manner consistent with this Privacy\\xa0Policy.4. Your rightsDepending on location, individuals in the EEA, the UK, and across the globe may have certain statutory rights in relation to their Personal Information. For example, you may have the right to:Access your Personal Information.Delete your Personal Information.Correct or update your Personal Information.Transfer your Personal Information elsewhere.Withdraw your consent to the processing of your Personal Information where we rely on consent as the legal basis for processing.Object to or restrict the processing of your Personal Information where we rely on legitimate interests as the legal basis for processing.You can exercise some of these rights through your OpenAI account. If you are unable to exercise your rights through your account, please send your request to dsar@openai.com.A note about accuracy: Services like ChatGPT generate responses by reading a user’s request and then predicting the next most likely words that might appear in response. In some cases, the most likely next words may not be the most factually accurate ones. For this reason, you should not rely on the factual accuracy of output from our models. If you notice that ChatGPT output contains factually inaccurate personal information about you and you would like us to correct the inaccuracy, you may submit a correction request to dsar@openai.com. Given the technical complexity of how our models work, we may not be able to correct the inaccuracy. In that case, you may request that we remove your personal information from ChatGPT’s output by filling out this form.For information on how to exercise your rights with respect to data we have collected from the internet to train our models, please see this help center article.5. California privacy rightsThe following table provides additional information about how we disclose Personal Information. You can read more about the Personal Information we collect in “Personal information we collect” above, how we use Personal information in “How we use personal information” above, and how we retain personal information in “Security and Retention” below.Category of Personal InformationDisclosure of Personal InformationIdentifiers, such as your contact detailsWe disclose this information to our affiliates, vendors and service providers, law enforcement, and parties involved in Transactions.Commercial Information, such as your transaction historyWe disclose this information to our affiliates, vendors and service providers, law enforcement, and parties involved in Transactions.Network Activity Information, such as Content and how you interact with our ServicesWe disclose this information to our affiliates, vendors and service providers, law enforcement, and parties involved in Transactions.Geolocation DataWe disclose this information to our affiliates, vendors and service providers, law enforcement, and parties involved in Transactions.Your account login credentials (Sensitive Personal Information)We disclose this information to our affiliates, vendors and service providers, law enforcement, and parties involved in Transactions.To the extent provided for by law and subject to applicable exceptions, California residents have the following privacy rights in relation to their Personal Information:The right to know information about our processing of your Personal Information, including the specific pieces of Personal Information that we have collected from you;The right to request deletion of your Personal Information;The right to correct your Personal Information; andThe right to be free from discrimination relating to the exercise of any of your privacy\\xa0rights.We don’t sell or share Personal\\xa0Information as defined by the California Consumer Privacy Act, as amended by the California Privacy Rights Act. We also don’t process sensitive personal information for the purposes of inferring characteristics about a consumer', metadata={}), Document(page_content='Exercising Your Rights. California residents can exercise their CCPA privacy rights by sending their request to dsar@openai.com.Verification. In order to protect your Personal Information from unauthorized access, change, or deletion, we may require you to verify your credentials before you can submit a request to know, correct, or delete Personal Information. If you do not have an account with us, or if we suspect fraudulent or malicious activity, we may ask you to provide additional Personal Information and proof of residency for verification. If we cannot verify your identity, we will not provide, correct, or delete your Personal\\xa0Information.Authorized Agents. You may submit a rights request through an authorized agent. If you do so, the agent must present signed written permission to act on your behalf and you may also be required to independently verify your identity and submit proof of your residency with\\xa0us. Authorized agent requests can be submitted to dsar@openai.com.6. ChildrenOur Service is not directed to children who are under the age of 13. OpenAI does not knowingly collect Personal Information from children under the age of 13. If you have reason to believe that a child under the age of 13 has provided Personal Information to OpenAI through the Service please email us at legal@openai.com. We will investigate any notification and if appropriate, delete the Personal Information from our\\xa0systems.\\xa0If you are 13 or older, but under 18, you must have consent from your parent or guardian to use our Services.7. Links to other websitesThe Service may contain links to other websites not operated or controlled by OpenAI, including social media services (“Third Party Sites”). The information that you share with Third Party Sites will be governed by the specific privacy policies and terms of service of the Third Party Sites and not by this Privacy Policy. By providing these links we do not imply that we endorse or have reviewed these sites. Please contact the Third Party Sites directly for information on their privacy practices and\\xa0policies.8. Security and RetentionWe implement commercially reasonable technical, administrative, and organizational measures to protect Personal Information both online and offline from loss, misuse, and unauthorized access, disclosure, alteration, or destruction. However, no Internet or email transmission is ever fully secure or error free. In particular, email sent to or from us may not be secure. Therefore, you should take special care in deciding what information you send to us via the Service or email. In addition, we are not responsible for circumvention of any privacy settings or security measures contained on the Service, or third party websites.We’ll retain your Personal Information for only as long as we need in order to provide our Service to you, or for other legitimate business purposes such as resolving disputes, safety and security reasons, or complying with our legal obligations. How long we retain Personal Information will depend on a number of factors, such as the amount, nature, and sensitivity of the information, the potential risk of harm from unauthorized use or disclosure, our purpose for processing the information, and any legal requirements.We may also anonymize or de-identify your Personal Information (so that it can no longer be associated with you) for research or statistical purposes, as described above, in which case we may use this information indefinitely without further notice to you.9. International usersBy using our Service, you understand and acknowledge that your Personal Information will be transferred from your location to our facilities and servers in the United\\xa0States.For EEA, UK or Swiss users:Legal Basis for Processing. Our legal bases for processing your Personal Information include:Performance of a contract with you when we provide and maintain our Services. When we process Account Information, Content, and Technical Information solely to provide our Services to you, this information is necessary to be able to provide our Services. If you do not provide this information, we may not be able to provide our Services to you.\\xa0Our legitimate interests in protecting our Services from abuse, fraud, or security risks, or in developing, improving, or promoting our Services, including when we train our models. This may include the processing of Account Information, Content, Social Information, and Technical Information. See here for instructions on how you can opt out of our use of your information to train our models.Your consent when we ask for your consent to process your Personal Information for a specific purpose that we communicate to you.\\xa0You have the right to withdraw your consent at any time.Compliance with our legal obligations when we use your Personal Information to comply with applicable law or when we protect our or our affiliates’, users’, or third parties’ rights, safety, and property.EEA and UK Representative. We’ve appointed VeraSafe as our representative in the EEA and UK for data protection matters. You can contact VeraSafe in matters related to Personal Information processing using\\xa0this contact form. Alternatively:\\xa0For users in the EEA,\\xa0you can contact VeraSafe at VeraSafe Ireland Ltd, Unit 3D North Point House, North Point Business Park, New Mallow Road, Cork T23AT2P, Ireland.For users in the UK,\\xa0you can contact VeraSafe at VeraSafe United Kingdom Ltd., 37 Albert Embankment, London SE1 7TL, United Kingdom.If you feel we have not adequately addressed an issue, you have the right to lodge a complaint with your local supervisory authority.Data Transfers. Where required, we will use appropriate safeguards for transferring Personal Information outside of the EEA, Switzerland, and the UK. We will only transfer Personal Information pursuant to a legally valid transfer mechanism.Data Controller', metadata={}), Document(page_content='For the purposes of the UK and EU General Data Protection Regulation 2018, our data controller is OpenAI OpCo, LLC at 3180 18th Street, San Francisco, CA, United States.10. Changes to the privacy policyWe may change this Privacy Policy at any time. When we do, we will post an updated version on this page, unless another type of notice is required by applicable law. By continuing to use our Service or providing us with Personal Information after we have posted an updated Privacy Policy, or notified you by other means, you consent to the revised Privacy\\xa0Policy.11. How to contact usPlease contact support\\xa0if you have any questions or concerns not already addressed in this Privacy\\xa0Policy.ResearchOverviewIndexProductOverviewGPT-4DALL·E 2Customer storiesSafety standardsPricingSafetyOverviewCompanyAboutBlogCareersCharterSecurityOpenAI © 2015\\u200a–\\u200a2023Terms & policiesPrivacy policyBrand guidelinesSocialTwitterYouTubeGitHubSoundCloudLinkedInBack to top', metadata={})]\n"
     ]
    }
   ],
   "source": [
    "if (num_tokens > 1500):\n",
    "    text_splitter = RecursiveCharacterTextSplitter(separators=[\"\\n\\n\", \"\\n\", \".\"], chunk_size=6000, chunk_overlap=0)\n",
    "    text_chunks = text_splitter.create_documents([text])\n",
    "\n",
    "print(text_chunks)"
   ]
  },
  {
   "cell_type": "code",
   "execution_count": 18,
   "metadata": {},
   "outputs": [
    {
     "name": "stdout",
     "output_type": "stream",
     "text": [
      "4\n",
      "Privacy policy CloseSearch Submit Skip to main contentSite NavigationResearchOverviewIndexProductOverviewChatGPTGPT-4DALL·E 2Customer storiesSafety standardsPricingDevelopersOverviewDocumentationAPI referenceExamplesSafetyCompanyAboutBlogCareersCharterSecuritySearch Navigation quick links Log inSign upMenu Mobile Navigation CloseSite NavigationResearchProductDevelopersSafetyCompany Quick Links Log inSign upSearch Submit Privacy policyUpdatedApril 27, 2023We at OpenAI OpCo, LLC (together with our affiliates, “OpenAI”, “we”, “our” or “us”) respect your privacy and are strongly committed to keeping secure any information we obtain from you or about you. This Privacy Policy describes our practices with respect to Personal Information we collect from or about you when you use our website and services (collectively, “Services”). This Privacy Policy does not apply to content that we process on behalf of customers of our business offerings, such as our API. Our use of that data is governed by our customer agreements covering access to and use of those offerings.For information about how we collect and use training information to develop our language models that power ChatGPT and other Services, and your choices with respect to that information, please see this help center article.1. Personal information we collectWe collect information that alone or in combination with other information in our possession could be used to identify you (“Personal Information”) as follows:Personal Information You Provide: We may collect Personal Information if you create an account to use our Services or communicate with us as follows:Account Information: When you create an account with us, we will collect information associated with your account, including your name, contact information, account credentials, payment card information, and transaction history, (collectively, “Account Information”).User Content: When you use our Services, we may collect Personal Information that is included in the input, file uploads, or feedback that you provide to our Services (“Content”). Communication Information: If you communicate with us, we may collect your name, contact information, and the contents of any messages you send (“Communication Information”).Social Media Information: We have pages on social media sites like Instagram, Facebook, Medium, Twitter, YouTube and LinkedIn. When you interact with our social media pages, we will collect Personal Information that you elect to provide to us, such as your contact details (collectively, “Social Information”). In addition, the companies that host our social media pages may provide us with aggregate information and analytics about our social media activity.Personal Information We Receive Automatically From Your Use of the Services: When you visit, use, and interact with the Services, we may receive the following information about your visit, use, or interactions (“Technical Information”):Log Data: Information that your browser automatically sends whenever you use our website (“log data”). Log data includes your Internet Protocol address, browser type and settings, the date and time of your request, and how you interacted with our website.Usage Data: We may automatically collect information about your use of the Services, such as the types of content that you view or engage with, the features you use and the actions you take, as well as your time zone, country, the dates and times of access, user agent and version, type of computer or mobile device, computer connection, IP address, and the like.Device Information: Includes name of the device, operating system, and browser you are using. Information collected may depend on the type of device you use and its settings.Cookies: We use cookies to operate and administer our Services, and improve your experience on it. A “cookie” is a piece of information sent to your browser by a website you visit. You can set your browser to accept all cookies, to reject all cookies, or to notify you whenever a cookie is offered so that you can decide each time whether to accept it. However, refusing a cookie may in some cases preclude you from using, or negatively affect the display or function of, a website or certain areas or features of a website. For more details on cookies please visit All About Cookies.Analytics: We may use a variety of online analytics products that use cookies to help us analyze how users use our Services and enhance your experience when you use the Services.2. How we use personal informationWe may use Personal Information for the following purposes:To provide, administer, maintain and/or analyze the Services;To improve our Services and conduct research;To communicate with you;To develop new programs and services;To prevent fraud, criminal activity, or misuses of our Services, and to ensure the security of our IT systems, architecture, and networks; andTo comply with legal obligations and legal process and to protect our rights, privacy, safety, or property, and/or that of our affiliates, you, or other third parties.Aggregated or De-Identified Information. We may aggregate or de-identify Personal Information and use the aggregated information to analyze the effectiveness of our Services, to improve and add features to our Services, to conduct research and for other similar purposes. In addition, from time to time, we may analyze the general behavior and characteristics of users of our Services and share aggregated information like general user statistics with third parties, publish such aggregated information or make such aggregated information generally available. We may collect aggregated information through the Services, through cookies, and through other means described in this Privacy Policy. We will maintain and use de-identified information in anonymous or de-identified form and we will not attempt to reidentify the information\n"
     ]
    }
   ],
   "source": [
    "print(len(text_chunks))\n",
    "print(text_chunks[0].page_content)"
   ]
  },
  {
   "cell_type": "markdown",
   "metadata": {},
   "source": [
    "#### Output Policy Chunks into Text File"
   ]
  },
  {
   "cell_type": "code",
   "execution_count": 19,
   "metadata": {},
   "outputs": [],
   "source": [
    "# with open('policy_chunks.txt', 'w') as file:\n",
    "#     for element in text_chunks:\n",
    "#         file.write(element.page_content + \"\\n\")"
   ]
  },
  {
   "cell_type": "markdown",
   "metadata": {},
   "source": [
    "#### Format Human Prompts with Policy Chunks"
   ]
  },
  {
   "cell_type": "code",
   "execution_count": 20,
   "metadata": {},
   "outputs": [],
   "source": [
    "human_message_prompts = [HumanMessagePromptTemplate.from_template(few_shot_prompt.format_prompt(input=chunk.page_content).to_string()) for chunk in text_chunks]\n",
    "\n",
    "# print(human_message_prompts)"
   ]
  },
  {
   "cell_type": "markdown",
   "metadata": {},
   "source": [
    "#### Format Chat Prompts with System & Human Prompt Messages"
   ]
  },
  {
   "cell_type": "code",
   "execution_count": 21,
   "metadata": {},
   "outputs": [],
   "source": [
    "formatted_chat_prompts = [ChatPromptTemplate.from_messages([system_message_prompt, human_message_prompt]) for human_message_prompt in human_message_prompts]\n",
    "\n",
    "# print(formatted_chat_prompts)"
   ]
  },
  {
   "cell_type": "code",
   "execution_count": 22,
   "metadata": {},
   "outputs": [],
   "source": [
    "# print(len(encoding.encode(formatted_chat_prompts[0].to_string())))\n",
    "# print(formatted_chat_prompts[0].to_string())"
   ]
  },
  {
   "cell_type": "markdown",
   "metadata": {},
   "source": [
    "#### Get Summaries for All Chunks"
   ]
  },
  {
   "cell_type": "code",
   "execution_count": 23,
   "metadata": {},
   "outputs": [],
   "source": [
    "# TODO\n",
    "# make the response calls run concurrently"
   ]
  },
  {
   "cell_type": "code",
   "execution_count": 24,
   "metadata": {},
   "outputs": [],
   "source": [
    "# responses = [llm(formatted_chat_prompt.to_messages()).content for formatted_chat_prompt in formatted_chat_prompts]"
   ]
  },
  {
   "cell_type": "code",
   "execution_count": 26,
   "metadata": {},
   "outputs": [
    {
     "name": "stderr",
     "output_type": "stream",
     "text": [
      "WARNING: While logging your request PromptLayer had the following error: 'NoneType' object has no attribute 'get'\n"
     ]
    },
    {
     "data": {
      "text/plain": [
       "[None]"
      ]
     },
     "execution_count": 26,
     "metadata": {},
     "output_type": "execute_result"
    }
   ],
   "source": [
    "responses = []\n",
    "async def async_generate(chain):\n",
    "    resp = await chain.arun(input=[])\n",
    "    responses.append(resp)\n",
    "\n",
    "tasks = [async_generate(chain=LLMChain(llm=llm, prompt=formatted_chat_prompt)) for formatted_chat_prompt in formatted_chat_prompts[:1]]\n",
    "await asyncio.gather(*tasks)"
   ]
  },
  {
   "cell_type": "code",
   "execution_count": null,
   "metadata": {},
   "outputs": [],
   "source": [
    "# print(responses)\n",
    "tokens = [len(encoding.encode(text)) for text in responses]\n",
    "# print(tokens)\n",
    "print(sum(tokens))"
   ]
  },
  {
   "cell_type": "markdown",
   "metadata": {},
   "source": [
    "## 2. Analyze Policy: Generate Coherent Summary"
   ]
  },
  {
   "cell_type": "markdown",
   "metadata": {},
   "source": [
    "#### Consolidate Chunk Summaries"
   ]
  },
  {
   "cell_type": "code",
   "execution_count": null,
   "metadata": {},
   "outputs": [],
   "source": [
    "analyzed_summaries = \"\\n\\n\".join([\"Summary {}:\\n{}\".format(index + 1, element) for index, element in enumerate(responses)])\n",
    "print(analyzed_summaries)"
   ]
  },
  {
   "cell_type": "markdown",
   "metadata": {},
   "source": [
    "#### Format Human & Chat Prompt"
   ]
  },
  {
   "cell_type": "code",
   "execution_count": null,
   "metadata": {},
   "outputs": [],
   "source": [
    "\n",
    "with open(\"final_category_summary_prompt.txt\", \"r\") as file:\n",
    "    human_prompt = file.read()\n",
    "\n",
    "human_prompt_template = PromptTemplate(input_variables=[\"summaries\"], template=human_prompt)\n",
    "human_message_prompt = HumanMessagePromptTemplate(prompt=human_prompt_template)\n",
    "\n",
    "chat_prompt = ChatPromptTemplate(input_variables=[\"summaries\"], messages=[system_message_prompt, human_message_prompt])\n",
    "formatted_chat_prompt = chat_prompt.format_prompt(summaries=analyzed_summaries)\n",
    "\n",
    "print(formatted_chat_prompt.to_messages()[0].content)\n",
    "print(formatted_chat_prompt.to_messages()[1].content)\n",
    "print(len(encoding.encode(formatted_chat_prompt.to_messages()[1].content)))"
   ]
  },
  {
   "cell_type": "markdown",
   "metadata": {},
   "source": [
    "#### Get Summary Report"
   ]
  },
  {
   "cell_type": "code",
   "execution_count": null,
   "metadata": {},
   "outputs": [],
   "source": [
    "response = llm(formatted_chat_prompt.to_messages())\n",
    "print(response)\n",
    "print(len(encoding.encode(response.content)))"
   ]
  },
  {
   "cell_type": "code",
   "execution_count": null,
   "metadata": {},
   "outputs": [],
   "source": [
    "final_report = response.content"
   ]
  },
  {
   "cell_type": "markdown",
   "metadata": {},
   "source": [
    "#### Output Final Report to Text File"
   ]
  },
  {
   "cell_type": "code",
   "execution_count": null,
   "metadata": {},
   "outputs": [],
   "source": [
    "# with open(\"final_report.txt\", \"w\") as file:\n",
    "#     file.write(response.content + \"\\n\")"
   ]
  },
  {
   "cell_type": "markdown",
   "metadata": {},
   "source": [
    "## 3. Perform Scoring to Generate Privacy Scorecard"
   ]
  },
  {
   "cell_type": "code",
   "execution_count": null,
   "metadata": {},
   "outputs": [],
   "source": [
    "# TODO\n",
    "# modify prompt to ignore categories like contact information"
   ]
  },
  {
   "cell_type": "code",
   "execution_count": null,
   "metadata": {},
   "outputs": [],
   "source": [
    "# with open(\"final_report.txt\", \"r\") as file:\n",
    "#     final_report = file.read()\n",
    "# print(final_report)"
   ]
  },
  {
   "cell_type": "markdown",
   "metadata": {},
   "source": [
    "#### Generate Company Context"
   ]
  },
  {
   "cell_type": "code",
   "execution_count": null,
   "metadata": {},
   "outputs": [],
   "source": [
    "serp_data = get_serp_data(url=url)"
   ]
  },
  {
   "cell_type": "code",
   "execution_count": null,
   "metadata": {},
   "outputs": [],
   "source": [
    "with open(\"context_extraction_prompt.txt\", \"r\") as file:\n",
    "    context_extraction = file.read()\n",
    "\n",
    "context_extraction_prompt = PromptTemplate(\n",
    "    input_variables=[\"candidate_names\", \"candidate_descriptions\", \"knowledge_graph\"],\n",
    "    template=context_extraction,\n",
    ")\n",
    "\n",
    "formatted_context_prompt = context_extraction_prompt.format_prompt(candidate_names=serp_data[\"candidate_names\"], candidate_descriptions=serp_data[\"candidate_descriptions\"], knowledge_graph=serp_data[\"knowledge_graph\"])\n",
    "print(formatted_context_prompt.to_string())"
   ]
  },
  {
   "cell_type": "code",
   "execution_count": null,
   "metadata": {},
   "outputs": [],
   "source": [
    "context_response = llm(formatted_context_prompt.to_messages())"
   ]
  },
  {
   "cell_type": "code",
   "execution_count": null,
   "metadata": {},
   "outputs": [],
   "source": [
    "company_context = context_response.content\n",
    "print(company_context)"
   ]
  },
  {
   "cell_type": "markdown",
   "metadata": {},
   "source": [
    "#### Define LLM"
   ]
  },
  {
   "cell_type": "code",
   "execution_count": null,
   "metadata": {},
   "outputs": [],
   "source": [
    "llm = PromptLayerChatOpenAI(pl_tags=[\"Privacy Scorecard\", \"Google\"], model_name=\"gpt-4\", temperature=0.1, openai_api_key=OPENAI_API_KEY)"
   ]
  },
  {
   "cell_type": "markdown",
   "metadata": {},
   "source": [
    "#### Load Scoring Guide"
   ]
  },
  {
   "cell_type": "code",
   "execution_count": null,
   "metadata": {},
   "outputs": [],
   "source": [
    "with open(\"scoring_guide_data.json\", \"r\") as file:\n",
    "    file_contents = file.read()\n",
    "    system_prompt, human_prompt_prefix, human_prompt_suffix, categories = json.loads(file_contents)[\"system_prompt\"], json.loads(file_contents)[\"human_prompt_prefix\"], json.loads(file_contents)[\"human_prompt_suffix\"], json.loads(file_contents)[\"categories\"]"
   ]
  },
  {
   "cell_type": "markdown",
   "metadata": {},
   "source": [
    "#### Compile System Prompt"
   ]
  },
  {
   "cell_type": "code",
   "execution_count": null,
   "metadata": {},
   "outputs": [],
   "source": [
    "system_message_prompt = SystemMessagePromptTemplate.from_template(system_prompt)"
   ]
  },
  {
   "cell_type": "markdown",
   "metadata": {},
   "source": [
    "#### Compile & Format Few-shot Human Prompt"
   ]
  },
  {
   "cell_type": "code",
   "execution_count": null,
   "metadata": {},
   "outputs": [],
   "source": [
    "category_prompt_template = PromptTemplate(\n",
    "    input_variables=[\"category\", \"guidelines\"],\n",
    "    template=\"{category}\\n{guidelines}\",\n",
    ")\n",
    "\n",
    "few_shot_prompt = FewShotPromptTemplate(\n",
    "    examples=categories,\n",
    "    example_prompt=category_prompt_template,\n",
    "    example_separator=\"\\n\\n\",\n",
    "    prefix=human_prompt_prefix,\n",
    "    suffix=human_prompt_suffix,\n",
    "    input_variables=[\"company_context\", \"final_report\"],\n",
    ")\n",
    "\n",
    "formatted_few_shot_prompt = few_shot_prompt.format_prompt(company_context=company_context, final_report=final_report)\n",
    "human_message_prompt = HumanMessagePromptTemplate.from_template(formatted_few_shot_prompt.to_string())"
   ]
  },
  {
   "cell_type": "markdown",
   "metadata": {},
   "source": [
    "#### Format Chat Prompt"
   ]
  },
  {
   "cell_type": "code",
   "execution_count": null,
   "metadata": {},
   "outputs": [],
   "source": [
    "formatted_chat_prompt = ChatPromptTemplate.from_messages([system_message_prompt, human_message_prompt]).format_prompt()\n",
    "\n",
    "print(formatted_chat_prompt.to_messages()[0].content)\n",
    "print(formatted_chat_prompt.to_messages()[1].content)\n",
    "print(len(encoding.encode(formatted_chat_prompt.to_messages()[1].content)))"
   ]
  },
  {
   "cell_type": "code",
   "execution_count": null,
   "metadata": {},
   "outputs": [],
   "source": [
    "response = llm(formatted_chat_prompt.to_messages())\n",
    "print(response.content)\n",
    "print(len(encoding.encode(response.content)))"
   ]
  },
  {
   "cell_type": "code",
   "execution_count": null,
   "metadata": {},
   "outputs": [],
   "source": [
    "with open('privacy_scorecard_1.txt', 'w') as file:\n",
    "    file.write(response.content + \"\\n\")"
   ]
  },
  {
   "cell_type": "code",
   "execution_count": null,
   "metadata": {},
   "outputs": [],
   "source": [
    "# TODO\n",
    "# explore guardrails for output parsing"
   ]
  }
 ],
 "metadata": {
  "kernelspec": {
   "display_name": "Python 3 (ipykernel)",
   "language": "python",
   "name": "python3"
  },
  "language_info": {
   "codemirror_mode": {
    "name": "ipython",
    "version": 3
   },
   "file_extension": ".py",
   "mimetype": "text/x-python",
   "name": "python",
   "nbconvert_exporter": "python",
   "pygments_lexer": "ipython3",
   "version": "3.11.2"
  }
 },
 "nbformat": 4,
 "nbformat_minor": 4
}
